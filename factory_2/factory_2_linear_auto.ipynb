{
 "cells": [
  {
   "cell_type": "markdown",
   "id": "5e8a3be2",
   "metadata": {
    "toc": true
   },
   "source": [
    "<h1>Table of Contents<span class=\"tocSkip\"></span></h1>\n",
    "<div class=\"toc\"><ul class=\"toc-item\"></ul></div>"
   ]
  },
  {
   "cell_type": "code",
   "execution_count": 5,
   "id": "bb59701b",
   "metadata": {},
   "outputs": [],
   "source": [
    "import pandas as pd\n",
    "import warnings\n",
    "import sklearn\n",
    "from pandas.core.common import SettingWithCopyWarning\n",
    "warnings.simplefilter(action=\"ignore\", category=SettingWithCopyWarning)\n",
    "import optuna\n",
    "\n",
    "from sklearn.linear_model import LinearRegression\n",
    "from sklearn.model_selection import train_test_split\n",
    "from sklearn.metrics import mean_squared_error\n",
    "\n",
    "from sklearn.metrics import mean_absolute_percentage_error\n",
    "\n",
    "from tqdm import notebook"
   ]
  },
  {
   "cell_type": "code",
   "execution_count": 6,
   "id": "ebf8c4f0",
   "metadata": {},
   "outputs": [],
   "source": [
    "factory_2019 = pd.read_csv('C://Users//Admin//Desktop//123//Самарэнерго//Предприятие_2//csv файлы/2019 почасовки.csv', sep=';')\n",
    "factory_2020 = pd.read_csv('C://Users//Admin//Desktop//123//Самарэнерго//Предприятие_2//csv файлы/2020 почасовки.csv', sep=';')\n",
    "factory_2021 = pd.read_csv('C://Users//Admin//Desktop//123//Самарэнерго//Предприятие_2//csv файлы/2021 почасовки.csv', sep=';')\n",
    "factory_2022 = pd.read_csv('C://Users//Admin//Desktop//123//Самарэнерго//Предприятие_2//csv файлы/2022 почасовки.csv', sep=';')\n",
    "factory = factory_2019.append(factory_2020).append(factory_2021).append(factory_2022).reset_index(drop=True)\n",
    "weather = pd.read_csv('C://Users//Admin//Desktop//123//Самарэнерго//Погодные_данные/weather_new.csv', sep=';', \n",
    "                      on_bad_lines='skip', decimal=\",\")"
   ]
  },
  {
   "cell_type": "code",
   "execution_count": null,
   "id": "6fe2c436",
   "metadata": {},
   "outputs": [],
   "source": [
    "factory['datetime'] = factory['1']+' '+factory['2']\n",
    "factory['datetime'] = pd.to_datetime(factory['datetime'], format='%d.%m.%Y %H:%M:%S')\n",
    "factory = factory.rename(columns = {'3':'expenditure'})\n",
    "factory = factory[['datetime', 'expenditure']]\n",
    "factory = factory.set_index('datetime')"
   ]
  },
  {
   "cell_type": "code",
   "execution_count": null,
   "id": "ae54e2ab",
   "metadata": {},
   "outputs": [],
   "source": [
    "weather = weather[['Местное время в Самаре','T']] #, 'U', 'Ff', 'N'\n",
    "weather = weather.rename(columns = {'Местное время в Самаре':'datetime'})\n",
    "weather['datetime'] = pd.to_datetime(weather['datetime'], format='%d.%m.%Y %H:%M')\n",
    "weather = weather.set_index('datetime')\n",
    "#weather['N'] = weather['N'].apply(cloud).apply(delited_1).apply(fill).astype('int')\n",
    "weather = weather.fillna(method='bfill')\n",
    "weather = weather.resample('1H').median()\n",
    "weather = weather.reset_index()\n",
    "for i in range(len(weather)-2):\n",
    "    if weather['T'][i]==0:\n",
    "        continue\n",
    "    elif weather['T'][i]==len(weather)-1:\n",
    "        break\n",
    "    elif weather['T'][i]!='NaN':\n",
    "        continue\n",
    "    elif weather['T'][i]=='NaN' and weather['T'][i+2]=='NaN':\n",
    "        weather['T'][i]= weather['T'][i-1]\n",
    "    elif weather['T'][i]=='NaN' and weather['T'][i+1] =='NaN':\n",
    "        weather['T'][i]= (weather['T'][i-1]+weather['T'][i+2])/2\n",
    "    elif weather['T'][i]=='NaN' and weather['T'][i+1]!='NaN':\n",
    "        weather['T'][i]= (weather['T'][i-1] +weather['T'][i+1])/2\n",
    "weather = weather.set_index('datetime')\n",
    "weather = weather.fillna(method='bfill')\n",
    "\n",
    "\n",
    "from scipy import stats\n",
    "from scipy.stats import kurtosis\n",
    "from scipy.signal import find_peaks\n",
    "data = factory.join(weather, on='datetime')\n",
    "def make_features(data, max_lag, rolling_mean_size):\n",
    "    data['month'] = data.index.month\n",
    "    data['day'] = data.index.day\n",
    "    data['dayofweek'] = data.index.dayofweek\n",
    "    #data['is_weekend'] = data.dayofweek.isin([5,6])*1\n",
    "    data['hour'] = data.index.hour\n",
    "    data['expanding_window'] = data['expenditure'].expanding(3).mean()\n",
    "    for lag in range(1, max_lag + 1):\n",
    "        data['lag_{}'.format(lag)] = data['expenditure'].shift(lag)\n",
    "    data['rolling_mean'] = data['expenditure'].shift().rolling(rolling_mean_size).mean()\n",
    "    #data['kurtosis'] = data['rolling_mean'].shift().rolling(3).apply(lambda x: kurtosis(x))\n",
    "    #data['peaks'] = data['rolling_mean'].shift().rolling(3).apply(lambda x: len(find_peaks(x)[0]))\n",
    "    \n",
    "make_features(data, 24, 24)\n",
    "data=data.dropna()\n",
    "features = data.drop(['expenditure'], axis=1)\n",
    "target = data['expenditure']\n",
    "features_train, features_test, target_train, target_test = train_test_split(\n",
    "    features, target, test_size=0.25, shuffle=False)\n",
    "model_lr = LinearRegression()\n",
    "model_lr.fit(features, target)"
   ]
  },
  {
   "cell_type": "code",
   "execution_count": 104,
   "id": "4ddabf56",
   "metadata": {},
   "outputs": [
    {
     "name": "stdout",
     "output_type": "stream",
     "text": [
      "\n",
      "Введите, с какого дня начать прогноз, в формате \"ГГГГ-ММ-ДД\":\n",
      "2022-06-25\n",
      "\n",
      "Введите, по какой день (включительно) сделать прогноз в формате \"ГГГГ-ММ-ДД\":\n",
      "2022-06-27\n"
     ]
    },
    {
     "data": {
      "application/vnd.jupyter.widget-view+json": {
       "model_id": "46ac88b63f3142979d8716e07df61234",
       "version_major": 2,
       "version_minor": 0
      },
      "text/plain": [
       "  0%|          | 0/72 [00:00<?, ?it/s]"
      ]
     },
     "metadata": {},
     "output_type": "display_data"
    },
    {
     "name": "stdout",
     "output_type": "stream",
     "text": [
      "Предсказание завершено\n"
     ]
    }
   ],
   "source": [
    "try:\n",
    "    #data_new = factory\n",
    "    factory_new = factory[:'2022-06-24']\n",
    "    data_new = weather.join(factory_new, on='datetime')\n",
    "    make_features(data_new, 24, 24)\n",
    "    data_new.dropna()\n",
    "    print()\n",
    "    print('Введите, с какого дня начать прогноз, в формате \"ГГГГ-ММ-ДД\":')\n",
    "    first_date = input()\n",
    "    print()\n",
    "    print('Введите, по какой день (включительно) сделать прогноз в формате \"ГГГГ-ММ-ДД\":')\n",
    "    secord_date = input()\n",
    "    \n",
    "    time_for_predict = data_new[str(first_date+' 00:00:00'):str(secord_date+' 23:00:00')].index.to_list()\n",
    "    for i in notebook.tqdm(time_for_predict):\n",
    "        target_a = data_new.expenditure[i]\n",
    "        features_a = data_new[str(i):str(i)].drop(['expenditure'], axis=1)\n",
    "        prediction = model_lr.predict(features_a)\n",
    "        data_new.expenditure[str(i)] = (float(prediction))\n",
    "        data_new = data_new[['T', 'expenditure']]\n",
    "        make_features(data_new, 24, 24)\n",
    "    prediction_april_test = data_new.expenditure[str(first_date+' 00:00:00'):]\n",
    "    print('Предсказание завершено')\n",
    "except:\n",
    "    print()"
   ]
  },
  {
   "cell_type": "code",
   "execution_count": 105,
   "id": "ad94f3f2",
   "metadata": {},
   "outputs": [
    {
     "name": "stdout",
     "output_type": "stream",
     "text": [
      "Куда сохранить файл? Введите адрес в формате C:\\Users\\User\\Desktop\\123\\Самарэнерго\\Предприятие_2\\Предсказания\\Предсказания тесты\\1\n",
      "C:\\Users\\User\\Desktop\\123\\Самарэнерго\\Предприятие_2\\Предсказания\\Предсказания тесты\\1\n",
      "\n",
      "Работа завершена. Данные сохранены в C:\\Users\\User\\Desktop\\123\\Самарэнерго\\Предприятие_2\\Предсказания\\Предсказания тесты\\1\n"
     ]
    }
   ],
   "source": [
    "print('Куда сохранить файл? Введите адрес в формате',  r'C:\\Users\\User\\Desktop\\123\\Самарэнерго\\Предприятие_2\\Предсказания\\Предсказания тесты\\1')\n",
    "way_to_save = str(input())\n",
    "prediction_april_test.to_csv(way_to_save) #и сохраняем\n",
    "print()\n",
    "print('Работа завершена. Данные сохранены в', way_to_save)"
   ]
  },
  {
   "cell_type": "code",
   "execution_count": null,
   "id": "d57d3638",
   "metadata": {},
   "outputs": [],
   "source": []
  }
 ],
 "metadata": {
  "kernelspec": {
   "display_name": "Python 3 (ipykernel)",
   "language": "python",
   "name": "python3"
  },
  "language_info": {
   "codemirror_mode": {
    "name": "ipython",
    "version": 3
   },
   "file_extension": ".py",
   "mimetype": "text/x-python",
   "name": "python",
   "nbconvert_exporter": "python",
   "pygments_lexer": "ipython3",
   "version": "3.9.12"
  },
  "toc": {
   "base_numbering": 1,
   "nav_menu": {},
   "number_sections": true,
   "sideBar": true,
   "skip_h1_title": true,
   "title_cell": "Table of Contents",
   "title_sidebar": "Contents",
   "toc_cell": true,
   "toc_position": {},
   "toc_section_display": true,
   "toc_window_display": false
  }
 },
 "nbformat": 4,
 "nbformat_minor": 5
}
