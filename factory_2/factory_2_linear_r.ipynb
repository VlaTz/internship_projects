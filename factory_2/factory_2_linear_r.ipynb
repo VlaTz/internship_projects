{
 "cells": [
  {
   "cell_type": "markdown",
   "id": "12a4b32b",
   "metadata": {
    "toc": true
   },
   "source": [
    "<h1>Table of Contents<span class=\"tocSkip\"></span></h1>\n",
    "<div class=\"toc\"><ul class=\"toc-item\"><li><span><a href=\"#Linear-Regression\" data-toc-modified-id=\"Linear-Regression-1\"><span class=\"toc-item-num\">1&nbsp;&nbsp;</span>Linear Regression</a></span></li><li><span><a href=\"#Тестирование\" data-toc-modified-id=\"Тестирование-2\"><span class=\"toc-item-num\">2&nbsp;&nbsp;</span>Тестирование</a></span></li><li><span><a href=\"#Вывод\" data-toc-modified-id=\"Вывод-3\"><span class=\"toc-item-num\">3&nbsp;&nbsp;</span>Вывод</a></span></li></ul></div>"
   ]
  },
  {
   "cell_type": "code",
   "execution_count": 127,
   "id": "1386085f",
   "metadata": {},
   "outputs": [],
   "source": [
    "import pandas as pd\n",
    "import matplotlib.pyplot as plt\n",
    "import seaborn\n",
    "import warnings\n",
    "import sklearn\n",
    "from pymystem3 import Mystem\n",
    "from pandas.core.common import SettingWithCopyWarning\n",
    "warnings.simplefilter(action=\"ignore\", category=SettingWithCopyWarning)\n",
    "import warnings\n",
    "warnings.filterwarnings(\"ignore\")\n",
    "\n",
    "import optuna\n",
    "\n",
    "from statsmodels.tsa.seasonal import seasonal_decompose\n",
    "from sklearn.model_selection import train_test_split\n",
    "from sklearn.model_selection import TimeSeriesSplit \n",
    "from sklearn.preprocessing import StandardScaler\n",
    "\n",
    "from sklearn.linear_model import LinearRegression\n",
    "import numpy as np\n",
    "\n",
    "from sklearn.metrics import mean_squared_error\n",
    "from sklearn.model_selection import cross_val_score, cross_validate\n",
    "from sklearn.model_selection import GridSearchCV\n",
    "from sklearn.metrics import mean_absolute_percentage_error\n",
    "\n",
    "from tqdm import notebook"
   ]
  },
  {
   "cell_type": "code",
   "execution_count": 128,
   "id": "a0e3cb3e",
   "metadata": {},
   "outputs": [],
   "source": [
    "factory_2019 = pd.read_csv('C://Users/Admin///Desktop//123//Самарэнерго//Предприятие_2//csv файлы/2019 почасовки.csv', sep=';')\n",
    "factory_2020 = pd.read_csv('C://Users//Admin//Desktop//123//Самарэнерго//Предприятие_2//csv файлы/2020 почасовки.csv', sep=';')\n",
    "factory_2021 = pd.read_csv('C://Users//Admin//Desktop//123//Самарэнерго//Предприятие_2//csv файлы/2021 почасовки.csv', sep=';')\n",
    "factory_2022 = pd.read_csv('C://Users//Admin//Desktop//123//Самарэнерго//Предприятие_2//csv файлы/2022 почасовки.csv', sep=';')"
   ]
  },
  {
   "cell_type": "code",
   "execution_count": 129,
   "id": "689de35f",
   "metadata": {},
   "outputs": [],
   "source": [
    "weather = pd.read_csv('C://Users//Admin//Desktop//123//Самарэнерго//Погодные_данные/weather_new.csv', sep=';', \n",
    "                      on_bad_lines='skip', decimal=\",\")"
   ]
  },
  {
   "cell_type": "code",
   "execution_count": 130,
   "id": "03b5f484",
   "metadata": {},
   "outputs": [],
   "source": [
    "factory = factory_2019.append(factory_2020).append(factory_2021).append(factory_2022).reset_index(drop=True)"
   ]
  },
  {
   "cell_type": "code",
   "execution_count": 131,
   "id": "c9abfd8e",
   "metadata": {},
   "outputs": [
    {
     "name": "stdout",
     "output_type": "stream",
     "text": [
      "<class 'pandas.core.frame.DataFrame'>\n",
      "RangeIndex: 29928 entries, 0 to 29927\n",
      "Data columns (total 3 columns):\n",
      " #   Column  Non-Null Count  Dtype \n",
      "---  ------  --------------  ----- \n",
      " 0   1       29928 non-null  object\n",
      " 1   2       29928 non-null  object\n",
      " 2   3       29928 non-null  int64 \n",
      "dtypes: int64(1), object(2)\n",
      "memory usage: 701.6+ KB\n"
     ]
    }
   ],
   "source": [
    "factory.info()"
   ]
  },
  {
   "cell_type": "code",
   "execution_count": 132,
   "id": "5a3ff70c",
   "metadata": {},
   "outputs": [
    {
     "data": {
      "text/html": [
       "<div>\n",
       "<style scoped>\n",
       "    .dataframe tbody tr th:only-of-type {\n",
       "        vertical-align: middle;\n",
       "    }\n",
       "\n",
       "    .dataframe tbody tr th {\n",
       "        vertical-align: top;\n",
       "    }\n",
       "\n",
       "    .dataframe thead th {\n",
       "        text-align: right;\n",
       "    }\n",
       "</style>\n",
       "<table border=\"1\" class=\"dataframe\">\n",
       "  <thead>\n",
       "    <tr style=\"text-align: right;\">\n",
       "      <th></th>\n",
       "      <th>3</th>\n",
       "    </tr>\n",
       "  </thead>\n",
       "  <tbody>\n",
       "    <tr>\n",
       "      <th>count</th>\n",
       "      <td>29928.000000</td>\n",
       "    </tr>\n",
       "    <tr>\n",
       "      <th>mean</th>\n",
       "      <td>45171.418170</td>\n",
       "    </tr>\n",
       "    <tr>\n",
       "      <th>std</th>\n",
       "      <td>7777.700706</td>\n",
       "    </tr>\n",
       "    <tr>\n",
       "      <th>min</th>\n",
       "      <td>5967.000000</td>\n",
       "    </tr>\n",
       "    <tr>\n",
       "      <th>25%</th>\n",
       "      <td>40602.750000</td>\n",
       "    </tr>\n",
       "    <tr>\n",
       "      <th>50%</th>\n",
       "      <td>45377.000000</td>\n",
       "    </tr>\n",
       "    <tr>\n",
       "      <th>75%</th>\n",
       "      <td>50136.500000</td>\n",
       "    </tr>\n",
       "    <tr>\n",
       "      <th>max</th>\n",
       "      <td>78343.000000</td>\n",
       "    </tr>\n",
       "  </tbody>\n",
       "</table>\n",
       "</div>"
      ],
      "text/plain": [
       "                  3\n",
       "count  29928.000000\n",
       "mean   45171.418170\n",
       "std     7777.700706\n",
       "min     5967.000000\n",
       "25%    40602.750000\n",
       "50%    45377.000000\n",
       "75%    50136.500000\n",
       "max    78343.000000"
      ]
     },
     "execution_count": 132,
     "metadata": {},
     "output_type": "execute_result"
    }
   ],
   "source": [
    "factory.describe()"
   ]
  },
  {
   "cell_type": "code",
   "execution_count": 133,
   "id": "c2c1dcd8",
   "metadata": {},
   "outputs": [],
   "source": [
    "factory['datetime'] = factory['1']+' '+factory['2']"
   ]
  },
  {
   "cell_type": "code",
   "execution_count": 134,
   "id": "7a817cf2",
   "metadata": {},
   "outputs": [],
   "source": [
    "factory['datetime'] = pd.to_datetime(factory['datetime'], format='%d.%m.%Y %H:%M:%S')"
   ]
  },
  {
   "cell_type": "code",
   "execution_count": 135,
   "id": "27ab07b5",
   "metadata": {},
   "outputs": [],
   "source": [
    "factory = factory.rename(columns = {'3':'expenditure'})"
   ]
  },
  {
   "cell_type": "code",
   "execution_count": 136,
   "id": "1d9f6758",
   "metadata": {},
   "outputs": [],
   "source": [
    "factory = factory[['datetime', 'expenditure']]"
   ]
  },
  {
   "cell_type": "code",
   "execution_count": 137,
   "id": "1677d28a",
   "metadata": {},
   "outputs": [
    {
     "data": {
      "text/html": [
       "<div>\n",
       "<style scoped>\n",
       "    .dataframe tbody tr th:only-of-type {\n",
       "        vertical-align: middle;\n",
       "    }\n",
       "\n",
       "    .dataframe tbody tr th {\n",
       "        vertical-align: top;\n",
       "    }\n",
       "\n",
       "    .dataframe thead th {\n",
       "        text-align: right;\n",
       "    }\n",
       "</style>\n",
       "<table border=\"1\" class=\"dataframe\">\n",
       "  <thead>\n",
       "    <tr style=\"text-align: right;\">\n",
       "      <th></th>\n",
       "      <th>datetime</th>\n",
       "      <th>expenditure</th>\n",
       "    </tr>\n",
       "  </thead>\n",
       "  <tbody>\n",
       "    <tr>\n",
       "      <th>0</th>\n",
       "      <td>2019-01-01 00:00:00</td>\n",
       "      <td>18068</td>\n",
       "    </tr>\n",
       "    <tr>\n",
       "      <th>1</th>\n",
       "      <td>2019-01-01 01:00:00</td>\n",
       "      <td>18139</td>\n",
       "    </tr>\n",
       "    <tr>\n",
       "      <th>2</th>\n",
       "      <td>2019-01-01 02:00:00</td>\n",
       "      <td>18171</td>\n",
       "    </tr>\n",
       "    <tr>\n",
       "      <th>3</th>\n",
       "      <td>2019-01-01 03:00:00</td>\n",
       "      <td>18001</td>\n",
       "    </tr>\n",
       "    <tr>\n",
       "      <th>4</th>\n",
       "      <td>2019-01-01 04:00:00</td>\n",
       "      <td>18119</td>\n",
       "    </tr>\n",
       "  </tbody>\n",
       "</table>\n",
       "</div>"
      ],
      "text/plain": [
       "             datetime  expenditure\n",
       "0 2019-01-01 00:00:00        18068\n",
       "1 2019-01-01 01:00:00        18139\n",
       "2 2019-01-01 02:00:00        18171\n",
       "3 2019-01-01 03:00:00        18001\n",
       "4 2019-01-01 04:00:00        18119"
      ]
     },
     "execution_count": 137,
     "metadata": {},
     "output_type": "execute_result"
    }
   ],
   "source": [
    "factory.head()"
   ]
  },
  {
   "cell_type": "code",
   "execution_count": 138,
   "id": "02b59051",
   "metadata": {},
   "outputs": [],
   "source": [
    "factory = factory.set_index('datetime')"
   ]
  },
  {
   "cell_type": "code",
   "execution_count": 139,
   "id": "c9c1426d",
   "metadata": {},
   "outputs": [],
   "source": [
    "def cloud(a):\n",
    "    a = str(a)\n",
    "    a = a.replace('%', '')\n",
    "    a = a.replace('.', '')\n",
    "    if a == 'Облаков нет':\n",
    "        return 0\n",
    "    elif a =='Небо не видно из-за тумана и/или других метеорологических явлений':\n",
    "        return 100\n",
    "    elif '–' or ' ' in a:\n",
    "        return a[:3]\n",
    "    else:\n",
    "        return a\n",
    "    \n",
    "def delited_1(a):\n",
    "    a=str(a)\n",
    "    a=a.replace('–', '')\n",
    "    a=a.replace(' ', '')\n",
    "    return a\n",
    "\n",
    "def fill(a):\n",
    "    if a == 'nan':\n",
    "        return 100\n",
    "    else:\n",
    "        return a"
   ]
  },
  {
   "cell_type": "code",
   "execution_count": 140,
   "id": "7b1c6d4f",
   "metadata": {},
   "outputs": [],
   "source": [
    "weather = weather[['Местное время в Самаре','T']] #, 'U', 'Ff', 'N'\n",
    "weather = weather.rename(columns = {'Местное время в Самаре':'datetime'})\n",
    "weather['datetime'] = pd.to_datetime(weather['datetime'], format='%d.%m.%Y %H:%M')\n",
    "weather = weather.set_index('datetime')\n",
    "#weather['N'] = weather['N'].apply(cloud).apply(delited_1).apply(fill).astype('int')\n",
    "weather = weather.fillna(method='bfill')\n",
    "weather = weather.resample('1H').median()\n",
    "weather = weather.reset_index()\n",
    "for i in range(len(weather)-2):\n",
    "    if weather['T'][i]==0:\n",
    "        continue\n",
    "    elif weather['T'][i]==len(weather)-1:\n",
    "        break\n",
    "    elif weather['T'][i]!='NaN':\n",
    "        continue\n",
    "    elif weather['T'][i]=='NaN' and weather['T'][i+2]=='NaN':\n",
    "        weather['T'][i]= weather['T'][i-1]\n",
    "    elif weather['T'][i]=='NaN' and weather['T'][i+1] =='NaN':\n",
    "        weather['T'][i]= (weather['T'][i-1]+weather['T'][i+2])/2\n",
    "    elif weather['T'][i]=='NaN' and weather['T'][i+1]!='NaN':\n",
    "        weather['T'][i]= (weather['T'][i-1] +weather['T'][i+1])/2\n",
    "weather = weather.set_index('datetime')\n",
    "weather = weather.fillna(method='bfill')"
   ]
  },
  {
   "cell_type": "code",
   "execution_count": 141,
   "id": "549ffbb6",
   "metadata": {},
   "outputs": [],
   "source": [
    "from scipy import stats\n",
    "from scipy.stats import kurtosis\n",
    "from scipy.signal import find_peaks\n",
    "data = factory.join(weather, on='datetime')\n",
    "def make_features(data, max_lag, rolling_mean_size):\n",
    "    data['month'] = data.index.month\n",
    "    data['day'] = data.index.day\n",
    "    data['dayofweek'] = data.index.dayofweek\n",
    "    data['is_weekend'] = data.dayofweek.isin([5,6])*1\n",
    "    data['hour'] = data.index.hour\n",
    "    data['expanding_window'] = data['expenditure'].expanding(3).mean()\n",
    "    for lag in range(1, max_lag + 1):\n",
    "        data['lag_{}'.format(lag)] = data['expenditure'].shift(lag)\n",
    "    data['rolling_mean'] = data['expenditure'].shift().rolling(rolling_mean_size).mean()\n",
    "    data['kurtosis'] = data['rolling_mean'].shift().rolling(7).apply(lambda x: kurtosis(x))\n",
    "    data['peaks'] = data['rolling_mean'].shift().rolling(7).apply(lambda x: len(find_peaks(x)[0]))"
   ]
  },
  {
   "cell_type": "code",
   "execution_count": 142,
   "id": "7cccbebc",
   "metadata": {},
   "outputs": [],
   "source": [
    "make_features(data, 24, 24)\n",
    "data = data.dropna()"
   ]
  },
  {
   "cell_type": "code",
   "execution_count": 143,
   "id": "fa61c25e",
   "metadata": {
    "scrolled": false
   },
   "outputs": [
    {
     "name": "stdout",
     "output_type": "stream",
     "text": [
      "<class 'pandas.core.frame.DataFrame'>\n",
      "DatetimeIndex: 29897 entries, 2019-01-02 07:00:00 to 2022-05-31 23:00:00\n",
      "Data columns (total 35 columns):\n",
      " #   Column            Non-Null Count  Dtype  \n",
      "---  ------            --------------  -----  \n",
      " 0   expenditure       29897 non-null  int64  \n",
      " 1   T                 29897 non-null  float64\n",
      " 2   month             29897 non-null  int64  \n",
      " 3   day               29897 non-null  int64  \n",
      " 4   dayofweek         29897 non-null  int64  \n",
      " 5   is_weekend        29897 non-null  int32  \n",
      " 6   hour              29897 non-null  int64  \n",
      " 7   expanding_window  29897 non-null  float64\n",
      " 8   lag_1             29897 non-null  float64\n",
      " 9   lag_2             29897 non-null  float64\n",
      " 10  lag_3             29897 non-null  float64\n",
      " 11  lag_4             29897 non-null  float64\n",
      " 12  lag_5             29897 non-null  float64\n",
      " 13  lag_6             29897 non-null  float64\n",
      " 14  lag_7             29897 non-null  float64\n",
      " 15  lag_8             29897 non-null  float64\n",
      " 16  lag_9             29897 non-null  float64\n",
      " 17  lag_10            29897 non-null  float64\n",
      " 18  lag_11            29897 non-null  float64\n",
      " 19  lag_12            29897 non-null  float64\n",
      " 20  lag_13            29897 non-null  float64\n",
      " 21  lag_14            29897 non-null  float64\n",
      " 22  lag_15            29897 non-null  float64\n",
      " 23  lag_16            29897 non-null  float64\n",
      " 24  lag_17            29897 non-null  float64\n",
      " 25  lag_18            29897 non-null  float64\n",
      " 26  lag_19            29897 non-null  float64\n",
      " 27  lag_20            29897 non-null  float64\n",
      " 28  lag_21            29897 non-null  float64\n",
      " 29  lag_22            29897 non-null  float64\n",
      " 30  lag_23            29897 non-null  float64\n",
      " 31  lag_24            29897 non-null  float64\n",
      " 32  rolling_mean      29897 non-null  float64\n",
      " 33  kurtosis          29897 non-null  float64\n",
      " 34  peaks             29897 non-null  float64\n",
      "dtypes: float64(29), int32(1), int64(5)\n",
      "memory usage: 8.1 MB\n"
     ]
    }
   ],
   "source": [
    "data.info()"
   ]
  },
  {
   "cell_type": "code",
   "execution_count": 150,
   "id": "2feec7b0",
   "metadata": {},
   "outputs": [],
   "source": [
    "features = data.drop(['expenditure'], axis=1)\n",
    "target = data['expenditure'] \n",
    "\n",
    "# cat_features = ['month', 'day', 'dayofweek', 'is_weekend', 'hour']\n",
    "# for i in notebook.tqdm(cat_features):\n",
    "#     features[i] = features[i].astype('str')\n",
    "# features = pd.get_dummies(features, drop_first=True)"
   ]
  },
  {
   "cell_type": "code",
   "execution_count": 151,
   "id": "57f7d23f",
   "metadata": {},
   "outputs": [],
   "source": [
    "features_train, features_test, target_train, target_test = train_test_split(\n",
    "    features, target, test_size=0.1, shuffle=False)"
   ]
  },
  {
   "cell_type": "code",
   "execution_count": 152,
   "id": "47e04b96",
   "metadata": {},
   "outputs": [
    {
     "data": {
      "text/html": [
       "<div>\n",
       "<style scoped>\n",
       "    .dataframe tbody tr th:only-of-type {\n",
       "        vertical-align: middle;\n",
       "    }\n",
       "\n",
       "    .dataframe tbody tr th {\n",
       "        vertical-align: top;\n",
       "    }\n",
       "\n",
       "    .dataframe thead th {\n",
       "        text-align: right;\n",
       "    }\n",
       "</style>\n",
       "<table border=\"1\" class=\"dataframe\">\n",
       "  <thead>\n",
       "    <tr style=\"text-align: right;\">\n",
       "      <th></th>\n",
       "      <th>T</th>\n",
       "      <th>month</th>\n",
       "      <th>day</th>\n",
       "      <th>dayofweek</th>\n",
       "      <th>is_weekend</th>\n",
       "      <th>hour</th>\n",
       "      <th>expanding_window</th>\n",
       "      <th>lag_1</th>\n",
       "      <th>lag_2</th>\n",
       "      <th>lag_3</th>\n",
       "      <th>...</th>\n",
       "      <th>lag_18</th>\n",
       "      <th>lag_19</th>\n",
       "      <th>lag_20</th>\n",
       "      <th>lag_21</th>\n",
       "      <th>lag_22</th>\n",
       "      <th>lag_23</th>\n",
       "      <th>lag_24</th>\n",
       "      <th>rolling_mean</th>\n",
       "      <th>kurtosis</th>\n",
       "      <th>peaks</th>\n",
       "    </tr>\n",
       "    <tr>\n",
       "      <th>datetime</th>\n",
       "      <th></th>\n",
       "      <th></th>\n",
       "      <th></th>\n",
       "      <th></th>\n",
       "      <th></th>\n",
       "      <th></th>\n",
       "      <th></th>\n",
       "      <th></th>\n",
       "      <th></th>\n",
       "      <th></th>\n",
       "      <th></th>\n",
       "      <th></th>\n",
       "      <th></th>\n",
       "      <th></th>\n",
       "      <th></th>\n",
       "      <th></th>\n",
       "      <th></th>\n",
       "      <th></th>\n",
       "      <th></th>\n",
       "      <th></th>\n",
       "      <th></th>\n",
       "    </tr>\n",
       "  </thead>\n",
       "  <tbody>\n",
       "    <tr>\n",
       "      <th>2019-01-02 07:00:00</th>\n",
       "      <td>-5.9</td>\n",
       "      <td>1</td>\n",
       "      <td>2</td>\n",
       "      <td>2</td>\n",
       "      <td>0</td>\n",
       "      <td>7</td>\n",
       "      <td>18087.968750</td>\n",
       "      <td>17710.0</td>\n",
       "      <td>17963.0</td>\n",
       "      <td>19215.0</td>\n",
       "      <td>...</td>\n",
       "      <td>18028.0</td>\n",
       "      <td>17956.0</td>\n",
       "      <td>16875.0</td>\n",
       "      <td>16872.0</td>\n",
       "      <td>17077.0</td>\n",
       "      <td>17394.0</td>\n",
       "      <td>17834.0</td>\n",
       "      <td>18052.375000</td>\n",
       "      <td>-1.272684</td>\n",
       "      <td>1.0</td>\n",
       "    </tr>\n",
       "    <tr>\n",
       "      <th>2019-01-02 08:00:00</th>\n",
       "      <td>-5.8</td>\n",
       "      <td>1</td>\n",
       "      <td>2</td>\n",
       "      <td>2</td>\n",
       "      <td>0</td>\n",
       "      <td>8</td>\n",
       "      <td>18075.151515</td>\n",
       "      <td>18171.0</td>\n",
       "      <td>17710.0</td>\n",
       "      <td>17963.0</td>\n",
       "      <td>...</td>\n",
       "      <td>17820.0</td>\n",
       "      <td>18028.0</td>\n",
       "      <td>17956.0</td>\n",
       "      <td>16875.0</td>\n",
       "      <td>16872.0</td>\n",
       "      <td>17077.0</td>\n",
       "      <td>17394.0</td>\n",
       "      <td>18066.416667</td>\n",
       "      <td>-1.110023</td>\n",
       "      <td>1.0</td>\n",
       "    </tr>\n",
       "    <tr>\n",
       "      <th>2019-01-02 09:00:00</th>\n",
       "      <td>-5.8</td>\n",
       "      <td>1</td>\n",
       "      <td>2</td>\n",
       "      <td>2</td>\n",
       "      <td>0</td>\n",
       "      <td>9</td>\n",
       "      <td>18047.294118</td>\n",
       "      <td>17665.0</td>\n",
       "      <td>18171.0</td>\n",
       "      <td>17710.0</td>\n",
       "      <td>...</td>\n",
       "      <td>17767.0</td>\n",
       "      <td>17820.0</td>\n",
       "      <td>18028.0</td>\n",
       "      <td>17956.0</td>\n",
       "      <td>16875.0</td>\n",
       "      <td>16872.0</td>\n",
       "      <td>17077.0</td>\n",
       "      <td>18077.708333</td>\n",
       "      <td>-0.924237</td>\n",
       "      <td>1.0</td>\n",
       "    </tr>\n",
       "    <tr>\n",
       "      <th>2019-01-02 10:00:00</th>\n",
       "      <td>-5.8</td>\n",
       "      <td>1</td>\n",
       "      <td>2</td>\n",
       "      <td>2</td>\n",
       "      <td>0</td>\n",
       "      <td>10</td>\n",
       "      <td>18017.685714</td>\n",
       "      <td>17128.0</td>\n",
       "      <td>17665.0</td>\n",
       "      <td>18171.0</td>\n",
       "      <td>...</td>\n",
       "      <td>17522.0</td>\n",
       "      <td>17767.0</td>\n",
       "      <td>17820.0</td>\n",
       "      <td>18028.0</td>\n",
       "      <td>17956.0</td>\n",
       "      <td>16875.0</td>\n",
       "      <td>16872.0</td>\n",
       "      <td>18079.833333</td>\n",
       "      <td>-0.670552</td>\n",
       "      <td>1.0</td>\n",
       "    </tr>\n",
       "    <tr>\n",
       "      <th>2019-01-02 11:00:00</th>\n",
       "      <td>-5.0</td>\n",
       "      <td>1</td>\n",
       "      <td>2</td>\n",
       "      <td>2</td>\n",
       "      <td>0</td>\n",
       "      <td>11</td>\n",
       "      <td>17991.416667</td>\n",
       "      <td>17011.0</td>\n",
       "      <td>17128.0</td>\n",
       "      <td>17665.0</td>\n",
       "      <td>...</td>\n",
       "      <td>17464.0</td>\n",
       "      <td>17522.0</td>\n",
       "      <td>17767.0</td>\n",
       "      <td>17820.0</td>\n",
       "      <td>18028.0</td>\n",
       "      <td>17956.0</td>\n",
       "      <td>16875.0</td>\n",
       "      <td>18085.625000</td>\n",
       "      <td>-0.779020</td>\n",
       "      <td>1.0</td>\n",
       "    </tr>\n",
       "    <tr>\n",
       "      <th>...</th>\n",
       "      <td>...</td>\n",
       "      <td>...</td>\n",
       "      <td>...</td>\n",
       "      <td>...</td>\n",
       "      <td>...</td>\n",
       "      <td>...</td>\n",
       "      <td>...</td>\n",
       "      <td>...</td>\n",
       "      <td>...</td>\n",
       "      <td>...</td>\n",
       "      <td>...</td>\n",
       "      <td>...</td>\n",
       "      <td>...</td>\n",
       "      <td>...</td>\n",
       "      <td>...</td>\n",
       "      <td>...</td>\n",
       "      <td>...</td>\n",
       "      <td>...</td>\n",
       "      <td>...</td>\n",
       "      <td>...</td>\n",
       "      <td>...</td>\n",
       "    </tr>\n",
       "    <tr>\n",
       "      <th>2022-01-27 05:00:00</th>\n",
       "      <td>-12.6</td>\n",
       "      <td>1</td>\n",
       "      <td>27</td>\n",
       "      <td>3</td>\n",
       "      <td>0</td>\n",
       "      <td>5</td>\n",
       "      <td>44841.569206</td>\n",
       "      <td>50386.0</td>\n",
       "      <td>50874.0</td>\n",
       "      <td>48530.0</td>\n",
       "      <td>...</td>\n",
       "      <td>45917.0</td>\n",
       "      <td>45927.0</td>\n",
       "      <td>49353.0</td>\n",
       "      <td>51184.0</td>\n",
       "      <td>54240.0</td>\n",
       "      <td>54105.0</td>\n",
       "      <td>58156.0</td>\n",
       "      <td>51698.750000</td>\n",
       "      <td>-1.500482</td>\n",
       "      <td>0.0</td>\n",
       "    </tr>\n",
       "    <tr>\n",
       "      <th>2022-01-27 06:00:00</th>\n",
       "      <td>-12.6</td>\n",
       "      <td>1</td>\n",
       "      <td>27</td>\n",
       "      <td>3</td>\n",
       "      <td>0</td>\n",
       "      <td>6</td>\n",
       "      <td>44841.745127</td>\n",
       "      <td>51995.0</td>\n",
       "      <td>50386.0</td>\n",
       "      <td>50874.0</td>\n",
       "      <td>...</td>\n",
       "      <td>47481.0</td>\n",
       "      <td>45917.0</td>\n",
       "      <td>45927.0</td>\n",
       "      <td>49353.0</td>\n",
       "      <td>51184.0</td>\n",
       "      <td>54240.0</td>\n",
       "      <td>54105.0</td>\n",
       "      <td>51442.041667</td>\n",
       "      <td>-1.587752</td>\n",
       "      <td>0.0</td>\n",
       "    </tr>\n",
       "    <tr>\n",
       "      <th>2022-01-27 07:00:00</th>\n",
       "      <td>-12.6</td>\n",
       "      <td>1</td>\n",
       "      <td>27</td>\n",
       "      <td>3</td>\n",
       "      <td>0</td>\n",
       "      <td>7</td>\n",
       "      <td>44842.051233</td>\n",
       "      <td>49580.0</td>\n",
       "      <td>51995.0</td>\n",
       "      <td>50386.0</td>\n",
       "      <td>...</td>\n",
       "      <td>50464.0</td>\n",
       "      <td>47481.0</td>\n",
       "      <td>45917.0</td>\n",
       "      <td>45927.0</td>\n",
       "      <td>49353.0</td>\n",
       "      <td>51184.0</td>\n",
       "      <td>54240.0</td>\n",
       "      <td>51253.500000</td>\n",
       "      <td>-1.109482</td>\n",
       "      <td>0.0</td>\n",
       "    </tr>\n",
       "    <tr>\n",
       "      <th>2022-01-27 08:00:00</th>\n",
       "      <td>-12.0</td>\n",
       "      <td>1</td>\n",
       "      <td>27</td>\n",
       "      <td>3</td>\n",
       "      <td>0</td>\n",
       "      <td>8</td>\n",
       "      <td>44842.579278</td>\n",
       "      <td>53087.0</td>\n",
       "      <td>49580.0</td>\n",
       "      <td>51995.0</td>\n",
       "      <td>...</td>\n",
       "      <td>56015.0</td>\n",
       "      <td>50464.0</td>\n",
       "      <td>47481.0</td>\n",
       "      <td>45917.0</td>\n",
       "      <td>45927.0</td>\n",
       "      <td>49353.0</td>\n",
       "      <td>51184.0</td>\n",
       "      <td>51205.458333</td>\n",
       "      <td>-0.843873</td>\n",
       "      <td>0.0</td>\n",
       "    </tr>\n",
       "    <tr>\n",
       "      <th>2022-01-27 09:00:00</th>\n",
       "      <td>-12.0</td>\n",
       "      <td>1</td>\n",
       "      <td>27</td>\n",
       "      <td>3</td>\n",
       "      <td>0</td>\n",
       "      <td>9</td>\n",
       "      <td>44843.139840</td>\n",
       "      <td>59066.0</td>\n",
       "      <td>53087.0</td>\n",
       "      <td>49580.0</td>\n",
       "      <td>...</td>\n",
       "      <td>54864.0</td>\n",
       "      <td>56015.0</td>\n",
       "      <td>50464.0</td>\n",
       "      <td>47481.0</td>\n",
       "      <td>45917.0</td>\n",
       "      <td>45927.0</td>\n",
       "      <td>49353.0</td>\n",
       "      <td>51533.875000</td>\n",
       "      <td>-1.014749</td>\n",
       "      <td>0.0</td>\n",
       "    </tr>\n",
       "  </tbody>\n",
       "</table>\n",
       "<p>26907 rows × 34 columns</p>\n",
       "</div>"
      ],
      "text/plain": [
       "                        T  month  day  dayofweek  is_weekend  hour  \\\n",
       "datetime                                                             \n",
       "2019-01-02 07:00:00  -5.9      1    2          2           0     7   \n",
       "2019-01-02 08:00:00  -5.8      1    2          2           0     8   \n",
       "2019-01-02 09:00:00  -5.8      1    2          2           0     9   \n",
       "2019-01-02 10:00:00  -5.8      1    2          2           0    10   \n",
       "2019-01-02 11:00:00  -5.0      1    2          2           0    11   \n",
       "...                   ...    ...  ...        ...         ...   ...   \n",
       "2022-01-27 05:00:00 -12.6      1   27          3           0     5   \n",
       "2022-01-27 06:00:00 -12.6      1   27          3           0     6   \n",
       "2022-01-27 07:00:00 -12.6      1   27          3           0     7   \n",
       "2022-01-27 08:00:00 -12.0      1   27          3           0     8   \n",
       "2022-01-27 09:00:00 -12.0      1   27          3           0     9   \n",
       "\n",
       "                     expanding_window    lag_1    lag_2    lag_3  ...  \\\n",
       "datetime                                                          ...   \n",
       "2019-01-02 07:00:00      18087.968750  17710.0  17963.0  19215.0  ...   \n",
       "2019-01-02 08:00:00      18075.151515  18171.0  17710.0  17963.0  ...   \n",
       "2019-01-02 09:00:00      18047.294118  17665.0  18171.0  17710.0  ...   \n",
       "2019-01-02 10:00:00      18017.685714  17128.0  17665.0  18171.0  ...   \n",
       "2019-01-02 11:00:00      17991.416667  17011.0  17128.0  17665.0  ...   \n",
       "...                               ...      ...      ...      ...  ...   \n",
       "2022-01-27 05:00:00      44841.569206  50386.0  50874.0  48530.0  ...   \n",
       "2022-01-27 06:00:00      44841.745127  51995.0  50386.0  50874.0  ...   \n",
       "2022-01-27 07:00:00      44842.051233  49580.0  51995.0  50386.0  ...   \n",
       "2022-01-27 08:00:00      44842.579278  53087.0  49580.0  51995.0  ...   \n",
       "2022-01-27 09:00:00      44843.139840  59066.0  53087.0  49580.0  ...   \n",
       "\n",
       "                      lag_18   lag_19   lag_20   lag_21   lag_22   lag_23  \\\n",
       "datetime                                                                    \n",
       "2019-01-02 07:00:00  18028.0  17956.0  16875.0  16872.0  17077.0  17394.0   \n",
       "2019-01-02 08:00:00  17820.0  18028.0  17956.0  16875.0  16872.0  17077.0   \n",
       "2019-01-02 09:00:00  17767.0  17820.0  18028.0  17956.0  16875.0  16872.0   \n",
       "2019-01-02 10:00:00  17522.0  17767.0  17820.0  18028.0  17956.0  16875.0   \n",
       "2019-01-02 11:00:00  17464.0  17522.0  17767.0  17820.0  18028.0  17956.0   \n",
       "...                      ...      ...      ...      ...      ...      ...   \n",
       "2022-01-27 05:00:00  45917.0  45927.0  49353.0  51184.0  54240.0  54105.0   \n",
       "2022-01-27 06:00:00  47481.0  45917.0  45927.0  49353.0  51184.0  54240.0   \n",
       "2022-01-27 07:00:00  50464.0  47481.0  45917.0  45927.0  49353.0  51184.0   \n",
       "2022-01-27 08:00:00  56015.0  50464.0  47481.0  45917.0  45927.0  49353.0   \n",
       "2022-01-27 09:00:00  54864.0  56015.0  50464.0  47481.0  45917.0  45927.0   \n",
       "\n",
       "                      lag_24  rolling_mean  kurtosis  peaks  \n",
       "datetime                                                     \n",
       "2019-01-02 07:00:00  17834.0  18052.375000 -1.272684    1.0  \n",
       "2019-01-02 08:00:00  17394.0  18066.416667 -1.110023    1.0  \n",
       "2019-01-02 09:00:00  17077.0  18077.708333 -0.924237    1.0  \n",
       "2019-01-02 10:00:00  16872.0  18079.833333 -0.670552    1.0  \n",
       "2019-01-02 11:00:00  16875.0  18085.625000 -0.779020    1.0  \n",
       "...                      ...           ...       ...    ...  \n",
       "2022-01-27 05:00:00  58156.0  51698.750000 -1.500482    0.0  \n",
       "2022-01-27 06:00:00  54105.0  51442.041667 -1.587752    0.0  \n",
       "2022-01-27 07:00:00  54240.0  51253.500000 -1.109482    0.0  \n",
       "2022-01-27 08:00:00  51184.0  51205.458333 -0.843873    0.0  \n",
       "2022-01-27 09:00:00  49353.0  51533.875000 -1.014749    0.0  \n",
       "\n",
       "[26907 rows x 34 columns]"
      ]
     },
     "execution_count": 152,
     "metadata": {},
     "output_type": "execute_result"
    }
   ],
   "source": [
    "features_train"
   ]
  },
  {
   "cell_type": "code",
   "execution_count": 153,
   "id": "7a27ea02",
   "metadata": {},
   "outputs": [],
   "source": [
    "# numeric = ['T', 'lag_1', 'lag_2', 'lag_3', 'lag_4', 'lag_5', 'lag_6', 'lag_7', \n",
    "#            'lag_8', 'lag_9', 'lag_10', 'lag_11', 'lag_12', \n",
    "#            'lag_13', 'lag_14', 'lag_15', 'lag_16', 'lag_17', 'lag_18', 'lag_19', \n",
    "#            'lag_20', 'lag_21', 'lag_22', 'lag_23', 'lag_24', 'rolling_mean', 'kurtosis', 'peaks', 'expanding_window']\n",
    "scaler = StandardScaler()\n",
    "features_train = scaler.fit_transform(features_train)\n",
    "features_test = scaler.transform(features_test)"
   ]
  },
  {
   "cell_type": "code",
   "execution_count": 154,
   "id": "6d203f25",
   "metadata": {
    "scrolled": false
   },
   "outputs": [
    {
     "name": "stdout",
     "output_type": "stream",
     "text": [
      "<class 'pandas.core.frame.DataFrame'>\n",
      "DatetimeIndex: 29897 entries, 2019-01-02 07:00:00 to 2022-05-31 23:00:00\n",
      "Data columns (total 34 columns):\n",
      " #   Column            Non-Null Count  Dtype  \n",
      "---  ------            --------------  -----  \n",
      " 0   T                 29897 non-null  float64\n",
      " 1   month             29897 non-null  int64  \n",
      " 2   day               29897 non-null  int64  \n",
      " 3   dayofweek         29897 non-null  int64  \n",
      " 4   is_weekend        29897 non-null  int32  \n",
      " 5   hour              29897 non-null  int64  \n",
      " 6   expanding_window  29897 non-null  float64\n",
      " 7   lag_1             29897 non-null  float64\n",
      " 8   lag_2             29897 non-null  float64\n",
      " 9   lag_3             29897 non-null  float64\n",
      " 10  lag_4             29897 non-null  float64\n",
      " 11  lag_5             29897 non-null  float64\n",
      " 12  lag_6             29897 non-null  float64\n",
      " 13  lag_7             29897 non-null  float64\n",
      " 14  lag_8             29897 non-null  float64\n",
      " 15  lag_9             29897 non-null  float64\n",
      " 16  lag_10            29897 non-null  float64\n",
      " 17  lag_11            29897 non-null  float64\n",
      " 18  lag_12            29897 non-null  float64\n",
      " 19  lag_13            29897 non-null  float64\n",
      " 20  lag_14            29897 non-null  float64\n",
      " 21  lag_15            29897 non-null  float64\n",
      " 22  lag_16            29897 non-null  float64\n",
      " 23  lag_17            29897 non-null  float64\n",
      " 24  lag_18            29897 non-null  float64\n",
      " 25  lag_19            29897 non-null  float64\n",
      " 26  lag_20            29897 non-null  float64\n",
      " 27  lag_21            29897 non-null  float64\n",
      " 28  lag_22            29897 non-null  float64\n",
      " 29  lag_23            29897 non-null  float64\n",
      " 30  lag_24            29897 non-null  float64\n",
      " 31  rolling_mean      29897 non-null  float64\n",
      " 32  kurtosis          29897 non-null  float64\n",
      " 33  peaks             29897 non-null  float64\n",
      "dtypes: float64(29), int32(1), int64(4)\n",
      "memory usage: 7.9 MB\n"
     ]
    }
   ],
   "source": [
    "features.info()"
   ]
  },
  {
   "cell_type": "markdown",
   "id": "ec53cf6a",
   "metadata": {},
   "source": [
    "## Linear Regression"
   ]
  },
  {
   "cell_type": "code",
   "execution_count": 155,
   "id": "5be1b7a9",
   "metadata": {},
   "outputs": [
    {
     "name": "stdout",
     "output_type": "stream",
     "text": [
      "[-14448335.96123475 -12703595.99864309 -11772481.44831283\n",
      " -13390523.10302926 -12600562.25101011]\n",
      "3603.2068706148425\n"
     ]
    }
   ],
   "source": [
    "model_LR = LinearRegression()\n",
    "scores_LR = cross_val_score(model_LR, features_train, target_train, scoring='neg_mean_squared_error', \n",
    "                                          cv=TimeSeriesSplit(n_splits=5))\n",
    "print(scores_LR)\n",
    "print((scores_LR.mean()*(-1))**0.5)"
   ]
  },
  {
   "cell_type": "code",
   "execution_count": 156,
   "id": "c8f3b886",
   "metadata": {},
   "outputs": [
    {
     "data": {
      "text/plain": [
       "LinearRegression()"
      ]
     },
     "execution_count": 156,
     "metadata": {},
     "output_type": "execute_result"
    }
   ],
   "source": [
    "model_LR.fit(features_test, target_test)"
   ]
  },
  {
   "cell_type": "markdown",
   "id": "ca363862",
   "metadata": {},
   "source": [
    "## Тестирование "
   ]
  },
  {
   "cell_type": "code",
   "execution_count": 157,
   "id": "1660aada",
   "metadata": {},
   "outputs": [
    {
     "data": {
      "text/plain": [
       "0.056742875149769494"
      ]
     },
     "execution_count": 157,
     "metadata": {},
     "output_type": "execute_result"
    }
   ],
   "source": [
    "p = model_LR.predict(features_test)\n",
    "mean_absolute_percentage_error(p, target_test)"
   ]
  },
  {
   "cell_type": "code",
   "execution_count": 158,
   "id": "4e94a862",
   "metadata": {},
   "outputs": [
    {
     "data": {
      "text/html": [
       "<div>\n",
       "<style scoped>\n",
       "    .dataframe tbody tr th:only-of-type {\n",
       "        vertical-align: middle;\n",
       "    }\n",
       "\n",
       "    .dataframe tbody tr th {\n",
       "        vertical-align: top;\n",
       "    }\n",
       "\n",
       "    .dataframe thead th {\n",
       "        text-align: right;\n",
       "    }\n",
       "</style>\n",
       "<table border=\"1\" class=\"dataframe\">\n",
       "  <thead>\n",
       "    <tr style=\"text-align: right;\">\n",
       "      <th></th>\n",
       "      <th>expenditure</th>\n",
       "    </tr>\n",
       "    <tr>\n",
       "      <th>datetime</th>\n",
       "      <th></th>\n",
       "    </tr>\n",
       "  </thead>\n",
       "  <tbody>\n",
       "    <tr>\n",
       "      <th>2022-05-31 19:00:00</th>\n",
       "      <td>29406</td>\n",
       "    </tr>\n",
       "    <tr>\n",
       "      <th>2022-05-31 20:00:00</th>\n",
       "      <td>30868</td>\n",
       "    </tr>\n",
       "    <tr>\n",
       "      <th>2022-05-31 21:00:00</th>\n",
       "      <td>31136</td>\n",
       "    </tr>\n",
       "    <tr>\n",
       "      <th>2022-05-31 22:00:00</th>\n",
       "      <td>31731</td>\n",
       "    </tr>\n",
       "    <tr>\n",
       "      <th>2022-05-31 23:00:00</th>\n",
       "      <td>30740</td>\n",
       "    </tr>\n",
       "  </tbody>\n",
       "</table>\n",
       "</div>"
      ],
      "text/plain": [
       "                     expenditure\n",
       "datetime                        \n",
       "2022-05-31 19:00:00        29406\n",
       "2022-05-31 20:00:00        30868\n",
       "2022-05-31 21:00:00        31136\n",
       "2022-05-31 22:00:00        31731\n",
       "2022-05-31 23:00:00        30740"
      ]
     },
     "execution_count": 158,
     "metadata": {},
     "output_type": "execute_result"
    }
   ],
   "source": [
    "factory.tail()"
   ]
  },
  {
   "cell_type": "code",
   "execution_count": 159,
   "id": "b832cb0a",
   "metadata": {},
   "outputs": [],
   "source": [
    "data_new = weather.join(factory, on='datetime')\n",
    "make_features(data_new, 24, 24)\n",
    "time_for_predict = data_new['2022-06-01 00:00:00':'2022-06-03 23:00:00'].index.to_list()"
   ]
  },
  {
   "cell_type": "code",
   "execution_count": 160,
   "id": "d0da4e5e",
   "metadata": {},
   "outputs": [
    {
     "data": {
      "text/plain": [
       "LinearRegression()"
      ]
     },
     "execution_count": 160,
     "metadata": {},
     "output_type": "execute_result"
    }
   ],
   "source": [
    "model = LinearRegression()\n",
    "model.fit(features, target)"
   ]
  },
  {
   "cell_type": "code",
   "execution_count": 161,
   "id": "272ff59e",
   "metadata": {},
   "outputs": [
    {
     "data": {
      "application/vnd.jupyter.widget-view+json": {
       "model_id": "287f701e6338484593f74fec00f63945",
       "version_major": 2,
       "version_minor": 0
      },
      "text/plain": [
       "  0%|          | 0/72 [00:00<?, ?it/s]"
      ]
     },
     "metadata": {},
     "output_type": "display_data"
    }
   ],
   "source": [
    "for i in notebook.tqdm(time_for_predict):\n",
    "    target_a = data_new.expenditure[i]\n",
    "    features_a = data_new[str(i):str(i)].drop(['expenditure'], axis=1)\n",
    "    prediction = model.predict(features_a)\n",
    "    data_new.expenditure[str(i)] = (float(prediction))\n",
    "    data_new = data_new[['T', 'expenditure']]\n",
    "    make_features(data_new, 24, 24)"
   ]
  },
  {
   "cell_type": "code",
   "execution_count": 162,
   "id": "7b3b4db8",
   "metadata": {},
   "outputs": [
    {
     "data": {
      "text/html": [
       "<div>\n",
       "<style scoped>\n",
       "    .dataframe tbody tr th:only-of-type {\n",
       "        vertical-align: middle;\n",
       "    }\n",
       "\n",
       "    .dataframe tbody tr th {\n",
       "        vertical-align: top;\n",
       "    }\n",
       "\n",
       "    .dataframe thead th {\n",
       "        text-align: right;\n",
       "    }\n",
       "</style>\n",
       "<table border=\"1\" class=\"dataframe\">\n",
       "  <thead>\n",
       "    <tr style=\"text-align: right;\">\n",
       "      <th></th>\n",
       "      <th>datetime</th>\n",
       "      <th>expenditure</th>\n",
       "    </tr>\n",
       "  </thead>\n",
       "  <tbody>\n",
       "    <tr>\n",
       "      <th>0</th>\n",
       "      <td>2022-06-01 00:00:00</td>\n",
       "      <td>33428.810615</td>\n",
       "    </tr>\n",
       "    <tr>\n",
       "      <th>1</th>\n",
       "      <td>2022-06-01 01:00:00</td>\n",
       "      <td>35474.608571</td>\n",
       "    </tr>\n",
       "    <tr>\n",
       "      <th>2</th>\n",
       "      <td>2022-06-01 02:00:00</td>\n",
       "      <td>36680.100863</td>\n",
       "    </tr>\n",
       "    <tr>\n",
       "      <th>3</th>\n",
       "      <td>2022-06-01 03:00:00</td>\n",
       "      <td>37463.946397</td>\n",
       "    </tr>\n",
       "    <tr>\n",
       "      <th>4</th>\n",
       "      <td>2022-06-01 04:00:00</td>\n",
       "      <td>38023.115226</td>\n",
       "    </tr>\n",
       "  </tbody>\n",
       "</table>\n",
       "</div>"
      ],
      "text/plain": [
       "             datetime   expenditure\n",
       "0 2022-06-01 00:00:00  33428.810615\n",
       "1 2022-06-01 01:00:00  35474.608571\n",
       "2 2022-06-01 02:00:00  36680.100863\n",
       "3 2022-06-01 03:00:00  37463.946397\n",
       "4 2022-06-01 04:00:00  38023.115226"
      ]
     },
     "execution_count": 162,
     "metadata": {},
     "output_type": "execute_result"
    }
   ],
   "source": [
    "prediction_test = data_new.expenditure['2022-06-01 00:00:00':] #выделяем диапазон предсказанный\n",
    "prediction_test = prediction_test.reset_index()\n",
    "prediction_test.head()"
   ]
  },
  {
   "cell_type": "code",
   "execution_count": 163,
   "id": "e255f81b",
   "metadata": {},
   "outputs": [
    {
     "data": {
      "text/plain": [
       "0.1113318759494337"
      ]
     },
     "execution_count": 163,
     "metadata": {},
     "output_type": "execute_result"
    }
   ],
   "source": [
    "test = pd.read_csv('C://Users//Admin//Desktop//123//Самарэнерго//Предприятие_2//test_2.csv', sep=';')\n",
    "test['prediction'] = prediction_test['expenditure']\n",
    "mean_absolute_percentage_error(test['prediction'], test['fact'])"
   ]
  },
  {
   "cell_type": "code",
   "execution_count": 164,
   "id": "d4057224",
   "metadata": {},
   "outputs": [
    {
     "data": {
      "text/plain": [
       "5441.014599611397"
      ]
     },
     "execution_count": 164,
     "metadata": {},
     "output_type": "execute_result"
    }
   ],
   "source": [
    "mean_squared_error(test['prediction'], test['fact'], squared=False)"
   ]
  },
  {
   "cell_type": "markdown",
   "id": "30d56867",
   "metadata": {},
   "source": [
    "## Вывод"
   ]
  },
  {
   "cell_type": "markdown",
   "id": "d6ef2571",
   "metadata": {},
   "source": [
    "Линейная регрессия показала результат лучше, чем бустинг"
   ]
  },
  {
   "cell_type": "code",
   "execution_count": null,
   "id": "a83b358c",
   "metadata": {},
   "outputs": [],
   "source": []
  }
 ],
 "metadata": {
  "kernelspec": {
   "display_name": "Python 3 (ipykernel)",
   "language": "python",
   "name": "python3"
  },
  "language_info": {
   "codemirror_mode": {
    "name": "ipython",
    "version": 3
   },
   "file_extension": ".py",
   "mimetype": "text/x-python",
   "name": "python",
   "nbconvert_exporter": "python",
   "pygments_lexer": "ipython3",
   "version": "3.9.12"
  },
  "toc": {
   "base_numbering": 1,
   "nav_menu": {},
   "number_sections": true,
   "sideBar": true,
   "skip_h1_title": true,
   "title_cell": "Table of Contents",
   "title_sidebar": "Contents",
   "toc_cell": true,
   "toc_position": {
    "height": "calc(100% - 180px)",
    "left": "10px",
    "top": "150px",
    "width": "311.111px"
   },
   "toc_section_display": true,
   "toc_window_display": false
  }
 },
 "nbformat": 4,
 "nbformat_minor": 5
}
