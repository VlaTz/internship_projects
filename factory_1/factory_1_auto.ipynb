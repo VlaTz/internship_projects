{
 "cells": [
  {
   "cell_type": "markdown",
   "id": "e2d995af",
   "metadata": {
    "toc": true
   },
   "source": [
    "<h1>Table of Contents<span class=\"tocSkip\"></span></h1>\n",
    "<div class=\"toc\"><ul class=\"toc-item\"></ul></div>"
   ]
  },
  {
   "cell_type": "code",
   "execution_count": 22,
   "id": "49accb55",
   "metadata": {},
   "outputs": [],
   "source": [
    "import pandas as pd\n",
    "import warnings\n",
    "import sklearn\n",
    "from pandas.core.common import SettingWithCopyWarning\n",
    "warnings.simplefilter(action=\"ignore\", category=SettingWithCopyWarning)\n",
    "import optuna\n",
    "from tqdm import notebook \n",
    "import numpy as np\n",
    "\n",
    "from sklearn.model_selection import train_test_split\n",
    "from sklearn.model_selection import TimeSeriesSplit \n",
    "from sklearn.preprocessing import StandardScaler\n",
    "from lightgbm import LGBMRegressor\n",
    "\n",
    "from sklearn.metrics import mean_squared_error\n",
    "from sklearn.model_selection import cross_val_score, cross_validate\n",
    "from sklearn.metrics import mean_absolute_percentage_error\n",
    "\n",
    "from tqdm import notebook\n",
    "from lightgbm import log_evaluation, early_stopping"
   ]
  },
  {
   "cell_type": "code",
   "execution_count": 23,
   "id": "140fc2e9",
   "metadata": {},
   "outputs": [],
   "source": [
    "def delited(a):\n",
    "    a=a.replace('-', '')\n",
    "    a=a.replace(' ', '')\n",
    "    return a\n",
    "\n",
    "def cloud(a):\n",
    "    a = str(a)\n",
    "    a = a.replace('%', '')\n",
    "    a = a.replace('.', '')\n",
    "    if a == 'Облаков нет':\n",
    "        return 0\n",
    "    elif a =='Небо не видно из-за тумана и/или других метеорологических явлений':\n",
    "        return 100\n",
    "    elif '–' or ' ' in a:\n",
    "        return a[:3]\n",
    "    else:\n",
    "        return a\n",
    "    \n",
    "def delited_1(a):\n",
    "    a=str(a)\n",
    "    a=a.replace('–', '')\n",
    "    a=a.replace(' ', '')\n",
    "    return a\n",
    "\n",
    "def fill(a):\n",
    "    if a == 'nan':\n",
    "        return 100\n",
    "    else:\n",
    "        return a\n",
    "    \n",
    "def make_features(data, max_lag, rolling_mean_size):\n",
    "    data['month'] = data.index.month\n",
    "    data['day'] = data.index.day\n",
    "    data['dayofweek'] = data.index.dayofweek\n",
    "    data['is_weekend'] = data.dayofweek.isin([5,6])*1\n",
    "    data['hour'] = data.index.hour\n",
    "    \n",
    "    for lag in range(1, max_lag+1):\n",
    "        data['lag_{}'.format(lag)] = data['expenditure'].shift(lag)\n",
    "    data['rolling_mean'] = data['expenditure'].shift(168).rolling(rolling_mean_size).mean()"
   ]
  },
  {
   "cell_type": "code",
   "execution_count": 24,
   "id": "f79d6e6d",
   "metadata": {},
   "outputs": [
    {
     "name": "stderr",
     "output_type": "stream",
     "text": [
      "C:\\Users\\Admin\\AppData\\Local\\Temp\\ipykernel_2184\\2613400390.py:1: DtypeWarning: Columns (6) have mixed types. Specify dtype option on import or set low_memory=False.\n",
      "  factory = pd.read_csv('C://Users/Admin//Desktop//123//Самарэнерго/Предприятие.csv', sep=';')\n"
     ]
    }
   ],
   "source": [
    "factory = pd.read_csv('C://Users/Admin//Desktop//123//Самарэнерго/Предприятие.csv', sep=';')"
   ]
  },
  {
   "cell_type": "code",
   "execution_count": 25,
   "id": "e11329d8",
   "metadata": {},
   "outputs": [],
   "source": [
    "weather = pd.read_csv('C://Users//Admin//Desktop//123//Самарэнерго//Погодные_данные/weather_new.csv', sep=';', on_bad_lines='skip', decimal=\",\")"
   ]
  },
  {
   "cell_type": "code",
   "execution_count": 27,
   "id": "6995482c",
   "metadata": {},
   "outputs": [],
   "source": [
    "%%time\n",
    "try:\n",
    "    data_1 = factory.dropna(axis=1)\n",
    "    data_1['datetime'] = pd.to_datetime(data_1['datetime'], format='%d.%m.%Y %H:%M')\n",
    "    data_1['expenditure'] = data_1['expenditure'].apply(delited)\n",
    "    data_1['expenditure'] = data_1['expenditure'].astype('int')\n",
    "    data_1 = data_1.set_index('datetime')\n",
    "    \n",
    "    weather = weather[['Местное время в Самаре','T', 'U', 'Ff', 'N']] \n",
    "    weather = weather.rename(columns = {'Местное время в Самаре':'datetime'})\n",
    "    weather['datetime'] = pd.to_datetime(weather['datetime'], format='%d.%m.%Y %H:%M')\n",
    "    weather = weather.set_index('datetime')\n",
    "    weather['N'] = weather['N'].apply(cloud).apply(delited_1).apply(fill).astype('int')\n",
    "    weather = weather.fillna(method='bfill')\n",
    "    weather = weather.resample('1H').median()\n",
    "    weather = weather.reset_index()\n",
    "    \n",
    "    for i in range(len(weather)-2):\n",
    "        if weather['T'][i]==0:\n",
    "            continue\n",
    "        elif weather['T'][i]==len(weather)-1:\n",
    "            break\n",
    "        elif weather['T'][i]!='NaN':\n",
    "            continue\n",
    "        elif weather['T'][i]=='NaN' and weather['T'][i+2]=='NaN':\n",
    "            weather['T'][i]= weather['T'][i-1]\n",
    "        elif weather['T'][i]=='NaN' and weather['T'][i+1] =='NaN':\n",
    "            weather['T'][i]= (weather['T'][i-1]+weather['T'][i+2])/2\n",
    "        elif weather['T'][i]=='NaN' and weather['T'][i+1]!='NaN':\n",
    "            weather['T'][i]= (weather['T'][i-1] +weather['T'][i+1])/2\n",
    "    weather = weather.set_index('datetime')\n",
    "    weather = weather.fillna(method='bfill')\n",
    "    \n",
    "    data = data_1.join(weather, on='datetime')\n",
    "    make_features(data, 7, 12)\n",
    "    data = data.dropna()\n",
    "    features = data.drop(['expenditure'], axis=1)\n",
    "    target = data['expenditure'] \n",
    "    cat_features = ['month', 'day', 'dayofweek', 'is_weekend', 'hour']\n",
    "    for i in notebook.tqdm(cat_features):\n",
    "        features[i] = features[i].astype('str')\n",
    "    features = pd.get_dummies(features, drop_first=True)\n",
    "    numeric = ['T', 'U', 'N', 'lag_1', 'lag_2', 'lag_3', 'lag_4', 'lag_5', 'lag_6', 'lag_7', 'rolling_mean']\n",
    "    scaler = StandardScaler()\n",
    "    features[numeric] = scaler.fit_transform(features[numeric])\n",
    "    print('Подготовка данных завершена.')\n",
    "    \n",
    "except:\n",
    "    print('Ошибка, проверьте вводимые даные.')\n",
    "    \n",
    "def objective_cv(trial, data=features, target=target):\n",
    "    callbacks=[log_evaluation(period=0), early_stopping(stopping_rounds=200)]\n",
    "    \n",
    "    params = {\n",
    "        'metric': 'rmse', \n",
    "        'random_state': 148,\n",
    "        'n_estimators': 10000,\n",
    "        'reg_alpha': trial.suggest_float('reg_alpha', 1e-3, 10.0),\n",
    "        'reg_lambda': trial.suggest_float('reg_lambda', 1e-3, 10.0),\n",
    "        'colsample_bytree': trial.suggest_categorical('colsample_bytree', [0.3,0.35,0.4,0.45,0.5,0.6,0.7,0.75,0.8,0.85]),\n",
    "        'subsample': trial.suggest_categorical('subsample', [0.6,0.65,0.7,0.75,0.8,0.85]),\n",
    "        'learning_rate': trial.suggest_categorical('learning_rate', \n",
    "                                                   [0.005,0.006,0.008,0.01,0.015,0.02,0.03]),\n",
    "        'max_depth': trial.suggest_categorical('max_depth', [-1,10,20]),\n",
    "        'num_leaves' : trial.suggest_int('num_leaves', 1, 300),\n",
    "        'min_child_samples': trial.suggest_int('min_child_samples', 1, 300),\n",
    "        'verbosity': -1\n",
    "    }\n",
    "    cv = TimeSeriesSplit(n_splits=5)\n",
    "    cv_scores = np.empty(5)\n",
    "    for idx, (train_idx, test_idx) in enumerate(cv.split(data, target)):\n",
    "        X_train, X_test = data.iloc[train_idx], data.iloc[test_idx]\n",
    "        y_train, y_test = target.iloc[train_idx], target.iloc[test_idx]\n",
    "        \n",
    "        model = LGBMRegressor(**params)\n",
    "        model.fit(X_train, y_train, eval_set=[(X_test,y_test)], callbacks=callbacks)\n",
    "        preds = model.predict(X_test)\n",
    "        cv_scores[idx] = mean_absolute_percentage_error(y_test, preds, )\n",
    "        \n",
    "    return np.mean(cv_scores)\n",
    "print()\n",
    "print('Обучение модели.')\n",
    "\n",
    "study = optuna.create_study(direction=\"minimize\", study_name=\"LGBM\")\n",
    "func = lambda trial: objective_cv(trial, features, target)\n",
    "study.optimize(func, n_trials=5)\n",
    "\n",
    "optuna_params = study.best_params\n",
    "\n",
    "optuna_params['metric'] = 'mape'\n",
    "optuna_params['random_state'] = 148\n",
    "optuna_params['n_estimators'] = 10000\n",
    "\n",
    "X_train, X_test, y_train, y_test = train_test_split(features, target, test_size=0.1, shuffle=False)\n",
    "callbacks=[log_evaluation(period=300), early_stopping(stopping_rounds=200)]\n",
    "model_optuna = LGBMRegressor(**optuna_params)\n",
    "model_optuna.fit(X_train, y_train, eval_set=[(X_test, y_test)], callbacks=callbacks)\n",
    "\n",
    "\n",
    "print()\n",
    "print('Модель обучена и готова к работе.')\n"
   ]
  },
  {
   "cell_type": "code",
   "execution_count": 7,
   "id": "440ca4f5",
   "metadata": {},
   "outputs": [
    {
     "name": "stdout",
     "output_type": "stream",
     "text": [
      "\n",
      "Введите, с какого дня начать прогноз, в формате \"ГГГГ-ММ-ДД\":\n",
      "2022-06-28\n",
      "\n",
      "Введите, по какой день (включительно) сделать прогноз в формате \"ГГГГ-ММ-ДД\":\n",
      "2022-06-30\n"
     ]
    },
    {
     "data": {
      "application/vnd.jupyter.widget-view+json": {
       "model_id": "221faa9829da4578966e33c61a5d7213",
       "version_major": 2,
       "version_minor": 0
      },
      "text/plain": [
       "  0%|          | 0/72 [00:00<?, ?it/s]"
      ]
     },
     "metadata": {},
     "output_type": "display_data"
    },
    {
     "name": "stdout",
     "output_type": "stream",
     "text": [
      "Предсказание завершено\n"
     ]
    }
   ],
   "source": [
    "try:\n",
    "    data_new = weather.join(data_1, on='datetime')\n",
    "    make_features(data_new, 7, 12)\n",
    "    scaler = StandardScaler()\n",
    "\n",
    "    for i in notebook.tqdm(cat_features):\n",
    "        data_new[i] = data_new[i].astype('str')\n",
    "    data_new = pd.get_dummies(data_new, drop_first=True)\n",
    "    data_new[numeric] = scaler.fit_transform(data_new[numeric])\n",
    "    print()\n",
    "    print('Введите, с какого дня начать прогноз, в формате \"ГГГГ-ММ-ДД\":')\n",
    "    first_date = input()\n",
    "    print()\n",
    "    print('Введите, по какой день (включительно) сделать прогноз в формате \"ГГГГ-ММ-ДД\":')\n",
    "    secord_date = input()\n",
    "    \n",
    "    time_for_predict = data_new[str(first_date+' 00:00:00'):str(secord_date+' 23:00:00')].index.to_list()\n",
    "    \n",
    "    for i in notebook.tqdm(time_for_predict):\n",
    "        target_a = data_new.expenditure[i]\n",
    "        features_a = data_new[str(i):str(i)].drop(['expenditure'], axis=1)\n",
    "        prediction = model_optuna.predict(features_a)\n",
    "        data_new.expenditure[str(i)] = (float(prediction))\n",
    "        data_new = data_new[['T', 'U', 'Ff','N', 'expenditure']]\n",
    "        make_features(data_new, 7, 12)\n",
    "        for i in cat_features:\n",
    "            data_new[i] = data_new[i].astype('str')\n",
    "        data_new = pd.get_dummies(data_new, drop_first=True)\n",
    "        data_new[numeric] = scaler.transform(data_new[numeric])\n",
    "        \n",
    "    prediction_april_test = data_new.expenditure[str(first_date+' 00:00:00'):]\n",
    "    print('Предсказание завершено')\n",
    "except:\n",
    "    print()\n",
    "    print('Ошибка. Проверьте, что данные ввода соответствует формату \"ГГГГ-ММ-ДД\"')"
   ]
  },
  {
   "cell_type": "code",
   "execution_count": 131,
   "id": "52b7331b",
   "metadata": {},
   "outputs": [
    {
     "name": "stdout",
     "output_type": "stream",
     "text": [
      "Куда сохранить файл? Введите адрес в формате C:\\Users\\User\\Desktop\\123\\Самарэнерго\\Предсказания\\апрель1-3\n",
      "C:\\Users\\User\\Desktop\\123\\Самарэнерго\\Предсказания\\апрель1-3\n",
      "\n",
      "Работа завершена. Данные сохранены в C:\\Users\\User\\Desktop\\123\\Самарэнерго\\Предсказания\\апрель1-3\n"
     ]
    }
   ],
   "source": [
    "print('Куда сохранить файл? Введите адрес в формате',  r'C:\\Users\\User\\Desktop\\123\\Самарэнерго\\Предсказания\\апрель1-3')\n",
    "way_to_save = str(input())\n",
    "prediction_april_test.to_csv(way_to_save) #и сохраняем\n",
    "print()\n",
    "print('Работа завершена. Данные сохранены в', way_to_save)"
   ]
  }
 ],
 "metadata": {
  "kernelspec": {
   "display_name": "Python 3 (ipykernel)",
   "language": "python",
   "name": "python3"
  },
  "language_info": {
   "codemirror_mode": {
    "name": "ipython",
    "version": 3
   },
   "file_extension": ".py",
   "mimetype": "text/x-python",
   "name": "python",
   "nbconvert_exporter": "python",
   "pygments_lexer": "ipython3",
   "version": "3.9.12"
  },
  "toc": {
   "base_numbering": 1,
   "nav_menu": {},
   "number_sections": true,
   "sideBar": true,
   "skip_h1_title": true,
   "title_cell": "Table of Contents",
   "title_sidebar": "Contents",
   "toc_cell": true,
   "toc_position": {},
   "toc_section_display": true,
   "toc_window_display": false
  }
 },
 "nbformat": 4,
 "nbformat_minor": 5
}
